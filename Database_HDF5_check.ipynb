{
 "cells": [
  {
   "cell_type": "markdown",
   "id": "cbf2c6dc-7d5c-49d6-8d70-4d83ec713bf8",
   "metadata": {},
   "source": [
    "# <font style=\"color:blue\">Database HDF5 analysis of data structure</font>\n",
    "### <font style=\"color:purple\">Imports</font>"
   ]
  },
  {
   "cell_type": "code",
   "execution_count": 1,
   "id": "38796cf4-9f78-4752-bba3-bfb4d1395956",
   "metadata": {},
   "outputs": [],
   "source": [
    "import os\n",
    "import h5py\n",
    "import json\n",
    "from PIL import Image\n",
    "import numpy as np\n",
    "import pandas as pd\n",
    "import matplotlib.pyplot as plt\n",
    "import matplotlib.patches as patches\n",
    "\n",
    "%matplotlib inline"
   ]
  },
  {
   "cell_type": "markdown",
   "id": "026d8cf0-b2af-49a3-9b23-d8581b9160ad",
   "metadata": {},
   "source": [
    "### <font style=\"color:purple\">Path to the database file</font>"
   ]
  },
  {
   "cell_type": "code",
   "execution_count": 2,
   "id": "c3adc135-d7ad-451e-af7d-17687bcc7051",
   "metadata": {},
   "outputs": [],
   "source": [
    "database_path = os.path.join('.','results','database','datasets.h5')"
   ]
  },
  {
   "cell_type": "markdown",
   "id": "89d75ea8-4e58-40cc-988c-6248c4684f86",
   "metadata": {},
   "source": [
    "### <font style=\"color:purple\">Work with database</font>"
   ]
  },
  {
   "cell_type": "markdown",
   "id": "d2f523f1-b010-42ab-a627-dba524ebe221",
   "metadata": {},
   "source": [
    "#### ***Connect to the database for reading***"
   ]
  },
  {
   "cell_type": "code",
   "execution_count": 3,
   "id": "7a2977b4-20ef-416e-a541-6124b01ad2fb",
   "metadata": {},
   "outputs": [
    {
     "data": {
      "text/plain": [
       "'/'"
      ]
     },
     "execution_count": 3,
     "metadata": {},
     "output_type": "execute_result"
    }
   ],
   "source": [
    "database = h5py.File(database_path, \"r\")\n",
    "database.name"
   ]
  },
  {
   "cell_type": "markdown",
   "id": "36dca6f5-a5a0-4d91-8959-93ea89d395f2",
   "metadata": {},
   "source": [
    "#### ***Base review of top structure***"
   ]
  },
  {
   "cell_type": "code",
   "execution_count": 4,
   "id": "7630cf9e-b12a-4cc6-92cd-803d8d1c1633",
   "metadata": {},
   "outputs": [
    {
     "data": {
      "text/plain": [
       "<KeysViewHDF5 ['test', 'train', 'valid']>"
      ]
     },
     "execution_count": 4,
     "metadata": {},
     "output_type": "execute_result"
    }
   ],
   "source": [
    "database.keys()"
   ]
  },
  {
   "cell_type": "code",
   "execution_count": 5,
   "id": "6b4d1c29-2ae3-4b6f-aa28-7c3709da9102",
   "metadata": {},
   "outputs": [
    {
     "data": {
      "text/plain": [
       "['test', 'train', 'valid']"
      ]
     },
     "execution_count": 5,
     "metadata": {},
     "output_type": "execute_result"
    }
   ],
   "source": [
    "List_datasets = list(database.keys())\n",
    "List_datasets"
   ]
  },
  {
   "cell_type": "code",
   "execution_count": 6,
   "id": "8529b7a5-78fe-4cef-a730-dad936af8be0",
   "metadata": {},
   "outputs": [
    {
     "data": {
      "text/plain": [
       "<KeysViewHDF5 ['class_number', 'names_class']>"
      ]
     },
     "execution_count": 6,
     "metadata": {},
     "output_type": "execute_result"
    }
   ],
   "source": [
    "database.attrs.keys()"
   ]
  },
  {
   "cell_type": "code",
   "execution_count": 7,
   "id": "14835af7-e519-48c9-9262-e75528b05329",
   "metadata": {},
   "outputs": [
    {
     "data": {
      "text/plain": [
       "['class_number', 'names_class']"
      ]
     },
     "execution_count": 7,
     "metadata": {},
     "output_type": "execute_result"
    }
   ],
   "source": [
    "List_database_attribute = list(database.attrs.keys())\n",
    "List_database_attribute"
   ]
  },
  {
   "cell_type": "markdown",
   "id": "1b7dcefa-4a04-4017-9ecd-d845ebdd8149",
   "metadata": {},
   "source": [
    "#### ***Select number of classes***"
   ]
  },
  {
   "cell_type": "code",
   "execution_count": 8,
   "id": "9d343ba9-dfcc-4427-ab7f-134591405dfb",
   "metadata": {},
   "outputs": [
    {
     "data": {
      "text/plain": [
       "2"
      ]
     },
     "execution_count": 8,
     "metadata": {},
     "output_type": "execute_result"
    }
   ],
   "source": [
    "number_of_classes = int(database.attrs[List_database_attribute[0]])\n",
    "number_of_classes"
   ]
  },
  {
   "cell_type": "markdown",
   "id": "9cbc3bf6-6e44-4898-a406-6f82b533dda9",
   "metadata": {},
   "source": [
    "#### ***Select list of class names***"
   ]
  },
  {
   "cell_type": "code",
   "execution_count": 9,
   "id": "6005b1ad-c8bc-45cf-97ee-71e968dc1c45",
   "metadata": {},
   "outputs": [
    {
     "data": {
      "text/plain": [
       "['__background__', 'Vehicle registration plate']"
      ]
     },
     "execution_count": 9,
     "metadata": {},
     "output_type": "execute_result"
    }
   ],
   "source": [
    "classes_names = list(database.attrs[List_database_attribute[1]])\n",
    "classes_names"
   ]
  },
  {
   "cell_type": "markdown",
   "id": "401c8465-30a3-4950-bc82-702add0dc979",
   "metadata": {},
   "source": [
    "#### ***Review structure of second level, type datasets***"
   ]
  },
  {
   "cell_type": "code",
   "execution_count": 10,
   "id": "4ecc9a5d-2636-4ccd-b210-63e92e0ccdd2",
   "metadata": {},
   "outputs": [],
   "source": [
    "dic_structure_type_datasets = {}\n",
    "for name_type in List_datasets:\n",
    "    list_data_groups = []\n",
    "    for name in database[name_type]:\n",
    "        list_data_groups.append(name)\n",
    "    dic_structure_type_datasets[name_type] = list_data_groups"
   ]
  },
  {
   "cell_type": "code",
   "execution_count": 11,
   "id": "535550f2-e659-4408-bd3f-a09dcc8e7922",
   "metadata": {},
   "outputs": [],
   "source": [
    "#dic_structure_type_datasets"
   ]
  },
  {
   "cell_type": "markdown",
   "id": "89f03e04-4a1d-4dca-91d3-1885318ac8ba",
   "metadata": {},
   "source": [
    "#### ***Structure of*** *test* ***dataset***"
   ]
  },
  {
   "cell_type": "code",
   "execution_count": 12,
   "id": "956bf123-b212-4a88-90e9-af2ddcc9264c",
   "metadata": {},
   "outputs": [
    {
     "name": "stdout",
     "output_type": "stream",
     "text": [
      "['pexels193021', 'pexels2127014', 'pexels2127732', 'pexels2127733', 'pexels24394859', 'pexels250154', 'pexels253096', 'pexels2920064', 'pexels303316', 'pexels313779']\n",
      "Number of test samples is 30.\n"
     ]
    }
   ],
   "source": [
    "list_test_images = dic_structure_type_datasets['test']\n",
    "print(list_test_images[10:20]) # view 10 samples\n",
    "print(f\"Number of test samples is {len(list_test_images)}.\")"
   ]
  },
  {
   "cell_type": "markdown",
   "id": "d4a6241a-06b7-4fd0-aed6-ee8e6cd47a66",
   "metadata": {},
   "source": [
    "***Show structure of one test image, number position 10.***"
   ]
  },
  {
   "cell_type": "code",
   "execution_count": 13,
   "id": "8ee62a95-5655-4ca2-90d2-5727fc99bcdf",
   "metadata": {},
   "outputs": [
    {
     "name": "stdout",
     "output_type": "stream",
     "text": [
      "image_link\n"
     ]
    }
   ],
   "source": [
    "for name in database['test'][list_test_images[10]]:\n",
    "    print(name)"
   ]
  },
  {
   "cell_type": "markdown",
   "id": "d2c5b6a0-e94e-41ff-b61c-6737eeda4659",
   "metadata": {},
   "source": [
    "***Show/select value of image link***"
   ]
  },
  {
   "cell_type": "code",
   "execution_count": 14,
   "id": "dbac8436-9c5c-4112-ae7c-84c6ac54e8ba",
   "metadata": {},
   "outputs": [
    {
     "data": {
      "text/plain": [
       "'/kaggle/input/opencv-evalution-alpr-dataset/cars_ALPR_test/images/pexels193021.jpg'"
      ]
     },
     "execution_count": 14,
     "metadata": {},
     "output_type": "execute_result"
    }
   ],
   "source": [
    "image_link_test10 = database['test'][list_test_images[10]]['image_link'][:]\n",
    "image_link_test10 = image_link_test10.tolist()[0]\n",
    "image_link_test10 = image_link_test10.decode('UTF-8')\n",
    "image_link_test10"
   ]
  },
  {
   "cell_type": "markdown",
   "id": "bdde6a3f-98ed-4cd0-844d-7f1f0ef9165a",
   "metadata": {},
   "source": [
    "***Show attribute of image***"
   ]
  },
  {
   "cell_type": "code",
   "execution_count": 15,
   "id": "d08cfd82-f612-43f3-ab15-c634f35abc34",
   "metadata": {},
   "outputs": [
    {
     "data": {
      "text/plain": [
       "['boxes', 'dimension', 'labels', 'name', 'type']"
      ]
     },
     "execution_count": 15,
     "metadata": {},
     "output_type": "execute_result"
    }
   ],
   "source": [
    "list_attributes_image_test10 = list(database['test'][list_test_images[10]].attrs.keys())\n",
    "list_attributes_image_test10"
   ]
  },
  {
   "cell_type": "markdown",
   "id": "a37dd77f-ce7f-4d6e-9f7f-eac0feaefff0",
   "metadata": {},
   "source": [
    "***Select xmin, ymin, xmax, ymax dimension of boxes***"
   ]
  },
  {
   "cell_type": "code",
   "execution_count": 19,
   "id": "d834f8e0-9251-4bdb-82a6-2fdaeeaaa110",
   "metadata": {},
   "outputs": [
    {
     "data": {
      "text/plain": [
       "[[706, 2346, 1410, 2546], [1410, 2436, 1432, 2446]]"
      ]
     },
     "execution_count": 19,
     "metadata": {},
     "output_type": "execute_result"
    }
   ],
   "source": [
    "boxes_values = database['test'][list_test_images[10]].attrs[list_attributes_image_test10[0]]\n",
    "boxes_values = boxes_values.tolist()\n",
    "boxes_values"
   ]
  },
  {
   "cell_type": "markdown",
   "id": "eafffc78-8759-4eee-a430-ae4107c8d171",
   "metadata": {},
   "source": [
    "***Select dimension of image***"
   ]
  },
  {
   "cell_type": "code",
   "execution_count": 22,
   "id": "fcddd96e-2e96-4c48-aa5b-d38e2d8728fd",
   "metadata": {},
   "outputs": [
    {
     "data": {
      "text/plain": [
       "[6000.0, 3376.0, 3.0]"
      ]
     },
     "execution_count": 22,
     "metadata": {},
     "output_type": "execute_result"
    }
   ],
   "source": [
    "dimension_image = database['test'][list_test_images[10]].attrs[list_attributes_image_test10[1]]\n",
    "dimension_image = dimension_image.tolist()\n",
    "dimension_image"
   ]
  },
  {
   "cell_type": "markdown",
   "id": "cda3faeb-8dd9-4e9e-9a05-d476ce96de1f",
   "metadata": {},
   "source": [
    "***Select labels of detections***"
   ]
  },
  {
   "cell_type": "code",
   "execution_count": 25,
   "id": "4c103a8c-ce17-49df-924a-3eb30ce6cbcf",
   "metadata": {},
   "outputs": [
    {
     "data": {
      "text/plain": [
       "[1, 1]"
      ]
     },
     "execution_count": 25,
     "metadata": {},
     "output_type": "execute_result"
    }
   ],
   "source": [
    "image_labels = database['test'][list_test_images[10]].attrs[list_attributes_image_test10[2]]\n",
    "image_labels = image_labels.tolist()\n",
    "image_labels"
   ]
  },
  {
   "cell_type": "markdown",
   "id": "b9e06724-6226-4d01-9656-3ca30fe63fac",
   "metadata": {},
   "source": [
    "***Select name of image***"
   ]
  },
  {
   "cell_type": "code",
   "execution_count": 28,
   "id": "af87767b-d9a1-4301-a64f-d80b388d4572",
   "metadata": {},
   "outputs": [
    {
     "data": {
      "text/plain": [
       "'pexels193021.jpg'"
      ]
     },
     "execution_count": 28,
     "metadata": {},
     "output_type": "execute_result"
    }
   ],
   "source": [
    "image_name = database['test'][list_test_images[10]].attrs[list_attributes_image_test10[3]]\n",
    "image_name = image_name.decode('UTF-8')\n",
    "image_name"
   ]
  },
  {
   "cell_type": "markdown",
   "id": "d62f686e-7391-43a0-a1e4-24d7a0574a35",
   "metadata": {},
   "source": [
    "***Select type of file***"
   ]
  },
  {
   "cell_type": "code",
   "execution_count": 32,
   "id": "4915a512-d2a5-4672-aa88-fb189b4c59a7",
   "metadata": {},
   "outputs": [
    {
     "data": {
      "text/plain": [
       "'jpg'"
      ]
     },
     "execution_count": 32,
     "metadata": {},
     "output_type": "execute_result"
    }
   ],
   "source": [
    "image_type = database['test'][list_test_images[10]].attrs[list_attributes_image_test10[4]]\n",
    "image_type = image_type.decode('UTF-8')\n",
    "image_type"
   ]
  },
  {
   "cell_type": "markdown",
   "id": "b80b53b7-12ed-4291-9c51-3ad656d6919d",
   "metadata": {},
   "source": [
    "#### ***Structure of*** *valid* ***dataset***"
   ]
  },
  {
   "cell_type": "code",
   "execution_count": 33,
   "id": "f78e2366-4a68-40e4-a198-479552bdbd4a",
   "metadata": {},
   "outputs": [
    {
     "name": "stdout",
     "output_type": "stream",
     "text": [
      "['0673b967f8c68eec', '06b024413ad385a7', '0727983dd5f9e4e6', '0787b0fa95f545a5', '0801961485534636', '081f5a6bc61b9c48', '08481c03daf6f35d', '091c033b2a7df15b', '09453a7c716a9ef3', '0c756c9366a8cb10']\n",
      "Number of test samples is 386.\n"
     ]
    }
   ],
   "source": [
    "list_test_images = dic_structure_type_datasets['valid']\n",
    "print(list_test_images[10:20]) # view 10 samples\n",
    "print(f\"Number of test samples is {len(list_test_images)}.\")"
   ]
  },
  {
   "cell_type": "markdown",
   "id": "92bc7ba9-1447-42a0-849d-1739645c0fce",
   "metadata": {},
   "source": [
    "***Show structure of one valid image, number position 10.***"
   ]
  },
  {
   "cell_type": "code",
   "execution_count": 35,
   "id": "f6a1e0d5-213b-4bb6-b84b-4cb8394c562b",
   "metadata": {},
   "outputs": [
    {
     "name": "stdout",
     "output_type": "stream",
     "text": [
      "image_link\n"
     ]
    }
   ],
   "source": [
    "for name in database['valid'][list_test_images[10]]:\n",
    "    print(name)"
   ]
  },
  {
   "cell_type": "markdown",
   "id": "0163d909-a947-4713-b042-a6074140dff2",
   "metadata": {},
   "source": [
    "***Show/select value of image link***"
   ]
  },
  {
   "cell_type": "code",
   "execution_count": 36,
   "id": "86792504-a06f-4b60-a1df-b7ba5d71637a",
   "metadata": {},
   "outputs": [
    {
     "data": {
      "text/plain": [
       "'/kaggle/input/vehicle-registration-plate/Dataset/validation/Vehicle registration plate/0673b967f8c68eec.jpg'"
      ]
     },
     "execution_count": 36,
     "metadata": {},
     "output_type": "execute_result"
    }
   ],
   "source": [
    "image_link_test10 = database['valid'][list_test_images[10]]['image_link'][:]\n",
    "image_link_test10 = image_link_test10.tolist()[0]\n",
    "image_link_test10 = image_link_test10.decode('UTF-8')\n",
    "image_link_test10"
   ]
  },
  {
   "cell_type": "markdown",
   "id": "3b1dfd85-4f06-48b0-944f-0e77d40a6003",
   "metadata": {},
   "source": [
    "***Show attribute of image***"
   ]
  },
  {
   "cell_type": "code",
   "execution_count": 37,
   "id": "749da648-0e5a-4a57-b89c-cb855b5e7c33",
   "metadata": {},
   "outputs": [
    {
     "data": {
      "text/plain": [
       "['boxes', 'dimension', 'labels', 'name', 'type']"
      ]
     },
     "execution_count": 37,
     "metadata": {},
     "output_type": "execute_result"
    }
   ],
   "source": [
    "list_attributes_image_test10 = list(database['valid'][list_test_images[10]].attrs.keys())\n",
    "list_attributes_image_test10"
   ]
  },
  {
   "cell_type": "markdown",
   "id": "2983561f-d408-4719-93af-a8f7ee43d432",
   "metadata": {},
   "source": [
    "***Select xmin, ymin, xmax, ymax dimension of boxes***"
   ]
  },
  {
   "cell_type": "code",
   "execution_count": 38,
   "id": "187599df-e56a-4e63-b6b0-d8e3f0461597",
   "metadata": {},
   "outputs": [
    {
     "data": {
      "text/plain": [
       "[[217, 533, 479, 633]]"
      ]
     },
     "execution_count": 38,
     "metadata": {},
     "output_type": "execute_result"
    }
   ],
   "source": [
    "boxes_values = database['valid'][list_test_images[10]].attrs[list_attributes_image_test10[0]]\n",
    "boxes_values = boxes_values.tolist()\n",
    "boxes_values"
   ]
  },
  {
   "cell_type": "markdown",
   "id": "f032919c-e764-4d39-ae78-4ecb9b3099df",
   "metadata": {},
   "source": [
    "***Select dimension of image***"
   ]
  },
  {
   "cell_type": "code",
   "execution_count": 39,
   "id": "06c5c802-0b00-46b7-95c3-af06f8fe9913",
   "metadata": {},
   "outputs": [
    {
     "data": {
      "text/plain": [
       "[1024.0, 742.0, 3.0]"
      ]
     },
     "execution_count": 39,
     "metadata": {},
     "output_type": "execute_result"
    }
   ],
   "source": [
    "dimension_image = database['valid'][list_test_images[10]].attrs[list_attributes_image_test10[1]]\n",
    "dimension_image = dimension_image.tolist()\n",
    "dimension_image"
   ]
  },
  {
   "cell_type": "markdown",
   "id": "3ab19486-76e2-4e19-aa99-d38faea40dde",
   "metadata": {},
   "source": [
    "***Select labels of detections***"
   ]
  },
  {
   "cell_type": "code",
   "execution_count": 41,
   "id": "f29e08ae-3fec-41e2-970e-24431da6910a",
   "metadata": {},
   "outputs": [
    {
     "data": {
      "text/plain": [
       "[1]"
      ]
     },
     "execution_count": 41,
     "metadata": {},
     "output_type": "execute_result"
    }
   ],
   "source": [
    "image_labels = database['valid'][list_test_images[10]].attrs[list_attributes_image_test10[2]]\n",
    "image_labels = image_labels.tolist()\n",
    "image_labels"
   ]
  },
  {
   "cell_type": "markdown",
   "id": "d1c0dea3-fb38-4931-84ce-14e935005acb",
   "metadata": {},
   "source": [
    "***Select name of image***"
   ]
  },
  {
   "cell_type": "code",
   "execution_count": 42,
   "id": "ece03328-0762-45cc-9e43-bf3de93e66fe",
   "metadata": {},
   "outputs": [
    {
     "data": {
      "text/plain": [
       "'0673b967f8c68eec.jpg'"
      ]
     },
     "execution_count": 42,
     "metadata": {},
     "output_type": "execute_result"
    }
   ],
   "source": [
    "image_name = database['valid'][list_test_images[10]].attrs[list_attributes_image_test10[3]]\n",
    "image_name = image_name.decode('UTF-8')\n",
    "image_name"
   ]
  },
  {
   "cell_type": "markdown",
   "id": "39fa7fe9-4054-4573-af3b-ef2d7b7b3f97",
   "metadata": {},
   "source": [
    "***Select type of file***"
   ]
  },
  {
   "cell_type": "code",
   "execution_count": 43,
   "id": "a336b7a0-1e90-4f02-97e0-be15ede198bc",
   "metadata": {},
   "outputs": [
    {
     "data": {
      "text/plain": [
       "'jpg'"
      ]
     },
     "execution_count": 43,
     "metadata": {},
     "output_type": "execute_result"
    }
   ],
   "source": [
    "image_type = database['valid'][list_test_images[10]].attrs[list_attributes_image_test10[4]]\n",
    "image_type = image_type.decode('UTF-8')\n",
    "image_type"
   ]
  },
  {
   "cell_type": "markdown",
   "id": "b9a10713-120c-4af3-9935-cadb0b9a31b0",
   "metadata": {},
   "source": [
    "#### ***Structure of*** *train* ***dataset***"
   ]
  },
  {
   "cell_type": "code",
   "execution_count": 44,
   "id": "cba47b8d-39f0-4937-8ee0-6c83a48461d6",
   "metadata": {},
   "outputs": [
    {
     "name": "stdout",
     "output_type": "stream",
     "text": [
      "['000883b46adeca7e', '0009c4ddcaab18d3', '000f52302c1341eb', '00103aa8df33633a', '001065dbc46c29c8', '0010f4c10f7ab07e', '0011d11a6a5ab5ad', '0014e05dcc74d3f3', '0015ed86d644a332', '00166578c691cd43']\n",
      "Number of test samples is 5308.\n"
     ]
    }
   ],
   "source": [
    "list_test_images = dic_structure_type_datasets['train']\n",
    "print(list_test_images[10:20]) # view 10 samples\n",
    "print(f\"Number of test samples is {len(list_test_images)}.\")"
   ]
  },
  {
   "cell_type": "markdown",
   "id": "dda11772-06be-4e7e-b79e-6c5b358f4ea3",
   "metadata": {},
   "source": [
    "***Show structure of one valid image, number position 10.***"
   ]
  },
  {
   "cell_type": "code",
   "execution_count": 46,
   "id": "399f9376-6357-4691-ad16-72e2d84c90f0",
   "metadata": {},
   "outputs": [
    {
     "name": "stdout",
     "output_type": "stream",
     "text": [
      "image_link\n"
     ]
    }
   ],
   "source": [
    "for name in database['train'][list_test_images[10]]:\n",
    "    print(name)"
   ]
  },
  {
   "cell_type": "markdown",
   "id": "32edc0ed-8d5b-4aec-abe4-44765d014106",
   "metadata": {},
   "source": [
    "***Show/select value of image link***"
   ]
  },
  {
   "cell_type": "code",
   "execution_count": 47,
   "id": "ee277f8f-9aeb-4b7d-9beb-2874a2c8a3f7",
   "metadata": {},
   "outputs": [
    {
     "data": {
      "text/plain": [
       "'/kaggle/input/vehicle-registration-plate/Dataset/train/Vehicle registration plate/000883b46adeca7e.jpg'"
      ]
     },
     "execution_count": 47,
     "metadata": {},
     "output_type": "execute_result"
    }
   ],
   "source": [
    "image_link_test10 = database['train'][list_test_images[10]]['image_link'][:]\n",
    "image_link_test10 = image_link_test10.tolist()[0]\n",
    "image_link_test10 = image_link_test10.decode('UTF-8')\n",
    "image_link_test10"
   ]
  },
  {
   "cell_type": "markdown",
   "id": "5bef5c13-69a9-4f4c-816c-a4704df14627",
   "metadata": {},
   "source": [
    "***Show attribute of image***"
   ]
  },
  {
   "cell_type": "code",
   "execution_count": 48,
   "id": "aa0fa12b-9593-46ba-8c1d-533ee6d18e82",
   "metadata": {},
   "outputs": [
    {
     "data": {
      "text/plain": [
       "['boxes', 'dimension', 'labels', 'name', 'type']"
      ]
     },
     "execution_count": 48,
     "metadata": {},
     "output_type": "execute_result"
    }
   ],
   "source": [
    "list_attributes_image_test10 = list(database['train'][list_test_images[10]].attrs.keys())\n",
    "list_attributes_image_test10"
   ]
  },
  {
   "cell_type": "markdown",
   "id": "35facf1f-9f95-4602-9cc7-732a766d8c90",
   "metadata": {},
   "source": [
    "***Select xmin, ymin, xmax, ymax dimension of boxes***"
   ]
  },
  {
   "cell_type": "code",
   "execution_count": 49,
   "id": "3a7fd1b3-b80d-4a75-802c-5a891051675b",
   "metadata": {},
   "outputs": [
    {
     "data": {
      "text/plain": [
       "[[823, 551, 915, 638]]"
      ]
     },
     "execution_count": 49,
     "metadata": {},
     "output_type": "execute_result"
    }
   ],
   "source": [
    "boxes_values = database['train'][list_test_images[10]].attrs[list_attributes_image_test10[0]]\n",
    "boxes_values = boxes_values.tolist()\n",
    "boxes_values"
   ]
  },
  {
   "cell_type": "markdown",
   "id": "9a6a91e3-ebea-448b-a2c2-3df8cf52d54d",
   "metadata": {},
   "source": [
    "***Select dimension of image***"
   ]
  },
  {
   "cell_type": "code",
   "execution_count": 50,
   "id": "d9e95edd-3cef-44bf-9e27-e795e0b69327",
   "metadata": {},
   "outputs": [
    {
     "data": {
      "text/plain": [
       "[1024.0, 773.0, 3.0]"
      ]
     },
     "execution_count": 50,
     "metadata": {},
     "output_type": "execute_result"
    }
   ],
   "source": [
    "dimension_image = database['train'][list_test_images[10]].attrs[list_attributes_image_test10[1]]\n",
    "dimension_image = dimension_image.tolist()\n",
    "dimension_image"
   ]
  },
  {
   "cell_type": "markdown",
   "id": "039134bc-0f51-4d21-912d-2558de8c94ae",
   "metadata": {},
   "source": [
    "***Select labels of detections***"
   ]
  },
  {
   "cell_type": "code",
   "execution_count": 54,
   "id": "b37d4011-5901-411b-bec1-5c8900c8a955",
   "metadata": {},
   "outputs": [
    {
     "data": {
      "text/plain": [
       "[1]"
      ]
     },
     "execution_count": 54,
     "metadata": {},
     "output_type": "execute_result"
    }
   ],
   "source": [
    "image_labels = database['train'][list_test_images[10]].attrs[list_attributes_image_test10[2]]\n",
    "image_labels = image_labels.tolist()\n",
    "image_labels"
   ]
  },
  {
   "cell_type": "markdown",
   "id": "a47979ed-0993-44af-b678-4220154131c1",
   "metadata": {},
   "source": [
    "***Select name of image***"
   ]
  },
  {
   "cell_type": "code",
   "execution_count": 55,
   "id": "8f00254c-b085-4bdd-9426-fab9cad902d4",
   "metadata": {},
   "outputs": [
    {
     "data": {
      "text/plain": [
       "'000883b46adeca7e.jpg'"
      ]
     },
     "execution_count": 55,
     "metadata": {},
     "output_type": "execute_result"
    }
   ],
   "source": [
    "image_name = database['train'][list_test_images[10]].attrs[list_attributes_image_test10[3]]\n",
    "image_name = image_name.decode('UTF-8')\n",
    "image_name"
   ]
  },
  {
   "cell_type": "markdown",
   "id": "698b7614-e65f-4d2b-8c91-46beab0bd8a3",
   "metadata": {},
   "source": [
    "***Select type of file***"
   ]
  },
  {
   "cell_type": "code",
   "execution_count": 56,
   "id": "a880cdc7-59dc-4b16-b627-9999c8d6bbb0",
   "metadata": {},
   "outputs": [
    {
     "data": {
      "text/plain": [
       "'jpg'"
      ]
     },
     "execution_count": 56,
     "metadata": {},
     "output_type": "execute_result"
    }
   ],
   "source": [
    "image_type = database['train'][list_test_images[10]].attrs[list_attributes_image_test10[4]]\n",
    "image_type = image_type.decode('UTF-8')\n",
    "image_type"
   ]
  },
  {
   "cell_type": "code",
   "execution_count": null,
   "id": "b9e7c01f-8976-4477-b256-e60adc65f81f",
   "metadata": {},
   "outputs": [],
   "source": []
  }
 ],
 "metadata": {
  "kernelspec": {
   "display_name": "Python 3 (ipykernel)",
   "language": "python",
   "name": "python3"
  },
  "language_info": {
   "codemirror_mode": {
    "name": "ipython",
    "version": 3
   },
   "file_extension": ".py",
   "mimetype": "text/x-python",
   "name": "python",
   "nbconvert_exporter": "python",
   "pygments_lexer": "ipython3",
   "version": "3.11.4"
  }
 },
 "nbformat": 4,
 "nbformat_minor": 5
}
