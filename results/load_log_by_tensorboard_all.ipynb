{
 "cells": [
  {
   "cell_type": "code",
   "execution_count": 1,
   "id": "7caf3098-ab65-4234-a588-bf4e9fa795cb",
   "metadata": {},
   "outputs": [],
   "source": [
    "import zipfile\n",
    "import os\n",
    "import shutil"
   ]
  },
  {
   "cell_type": "code",
   "execution_count": 2,
   "id": "8ef2dd72-8df3-452f-a98f-123419e6afc9",
   "metadata": {},
   "outputs": [],
   "source": [
    "os.mkdir(os.path.join('.','faster_rcnn'))"
   ]
  },
  {
   "cell_type": "code",
   "execution_count": 3,
   "id": "4a5708a5-07c1-45d3-9cd7-c891f53f4f37",
   "metadata": {},
   "outputs": [],
   "source": [
    "def rozbalit_zip(zip_file, target_folder):\n",
    "    \"\"\"Extracts a ZIP file to the specified folder.\n",
    "\n",
    "    Args:\n",
    "        zip_file: Path to the ZIP file.\n",
    "        target_folder: Path to the target folder.\n",
    "    \"\"\"\n",
    "\n",
    "    with zipfile.ZipFile(zip_file, 'r') as zip_ref:\n",
    "        zip_ref.extractall(target_folder)"
   ]
  },
  {
   "cell_type": "code",
   "execution_count": 4,
   "id": "5b3ec852-0ae0-440e-abd3-a025d4bc9ab2",
   "metadata": {},
   "outputs": [],
   "source": [
    "# Použití funkce\n",
    "rozbalit_zip(os.path.join('.','faster_rcnn_var.zip'), os.path.join('.','faster_rcnn'))"
   ]
  },
  {
   "cell_type": "code",
   "execution_count": 5,
   "id": "8b5a4501-7c8f-48d7-90b2-4eaaa7e875aa",
   "metadata": {},
   "outputs": [
    {
     "data": {
      "text/html": [
       "\n",
       "      <iframe id=\"tensorboard-frame-832b0d631fc01530\" width=\"100%\" height=\"800\" frameborder=\"0\">\n",
       "      </iframe>\n",
       "      <script>\n",
       "        (function() {\n",
       "          const frame = document.getElementById(\"tensorboard-frame-832b0d631fc01530\");\n",
       "          const url = new URL(\"/\", window.location);\n",
       "          const port = 6006;\n",
       "          if (port) {\n",
       "            url.port = port;\n",
       "          }\n",
       "          frame.src = url;\n",
       "        })();\n",
       "      </script>\n",
       "    "
      ],
      "text/plain": [
       "<IPython.core.display.HTML object>"
      ]
     },
     "metadata": {},
     "output_type": "display_data"
    }
   ],
   "source": [
    "%load_ext tensorboard\n",
    "# %reload_ext tensorboard\n",
    "logdir = 'faster_rcnn/faster_rcnn_var/faster_rcnn_var'\n",
    "%tensorboard --logdir={logdir}"
   ]
  },
  {
   "cell_type": "code",
   "execution_count": 6,
   "id": "291c80c7-a0ad-4646-a58a-6539e20b7d47",
   "metadata": {},
   "outputs": [],
   "source": [
    "def delete_directory(directory_path):\n",
    "    \"\"\"Deletes a directory and its contents recursively.\n",
    "\n",
    "    Args:\n",
    "        directory_path: The path to the directory to delete.\n",
    "    \"\"\"\n",
    "\n",
    "    try:\n",
    "        shutil.rmtree(directory_path)\n",
    "        print(f\"Directory '{directory_path}' deleted successfully.\")\n",
    "    except FileNotFoundError:\n",
    "        print(f\"Directory '{directory_path}' not found.\")\n",
    "    except OSError as e:\n",
    "        print(f\"Error deleting directory '{directory_path}': {e}\")"
   ]
  },
  {
   "cell_type": "code",
   "execution_count": 7,
   "id": "6d7d5300-b820-4561-86a7-c0c14f4e38f5",
   "metadata": {},
   "outputs": [
    {
     "name": "stdout",
     "output_type": "stream",
     "text": [
      "Directory '.\\faster_rcnn' deleted successfully.\n"
     ]
    }
   ],
   "source": [
    "delete_directory(os.path.join('.','faster_rcnn'))"
   ]
  },
  {
   "cell_type": "code",
   "execution_count": null,
   "id": "4cad1115-88f9-4425-8ef8-9390d0e036d8",
   "metadata": {},
   "outputs": [],
   "source": []
  }
 ],
 "metadata": {
  "kernelspec": {
   "display_name": "Python 3 (ipykernel)",
   "language": "python",
   "name": "python3"
  },
  "language_info": {
   "codemirror_mode": {
    "name": "ipython",
    "version": 3
   },
   "file_extension": ".py",
   "mimetype": "text/x-python",
   "name": "python",
   "nbconvert_exporter": "python",
   "pygments_lexer": "ipython3",
   "version": "3.11.4"
  }
 },
 "nbformat": 4,
 "nbformat_minor": 5
}
